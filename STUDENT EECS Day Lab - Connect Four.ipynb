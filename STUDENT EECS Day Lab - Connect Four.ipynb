{
   "cell_type": "code",
   "execution_count": null,
   "id": "2b99bdf0",
   "metadata": {},
   "outputs": [],
   "source": [
    "# This function adds two numbers and returns the result\n",
    "def add_numbers(a, b):\n",
    "    result = a + b\n",
    "    return result"
   ]
  },
  {
   "cell_type": "code",
   "execution_count": null,
   "id": "e374e639",
   "metadata": {},
   "outputs": [],
   "source": [
    "# Let's use our function\n",
    "sum1 = add_numbers(5, 3)\n",
    "print(\"5 + 3 =\", sum1)\n",
    "\n",
    "# We can use variables too\n",
    "sum2 = add_numbers(favorite_number, your_age)\n",
    "print(\"Your favorite number plus your age is:\", sum2)"
   ]
  },
  {
   "cell_type": "markdown",
   "id": "04a8202d",
   "metadata": {},
   "source": [
    "### Your Turn!\n",
    "\n",
    "Can you create a function that takes a person's name and their favorite animal, and prints a message about them?"
   ]
  },
  {
   "cell_type": "code",
   "execution_count": null,
   "id": "04a8222d",
   "metadata": {},
   "outputs": [],
   "source": [
    "# Create your function here\n",
    "def about_person(name, favorite_animal):\n",
    "    print(name, \"really loves\", favorite_animal + \"s!\")\n",
    "    print(\"I think\", favorite_animal + \"s are cool too!\")\n",
    "\n",
    "# Now call your function\n",
    "about_person(\"Alex\", \"dog\")\n",
    "about_person(first_name, \"cat\")  # Try with your name and a different animal"
   ]
  },
  {
   "cell_type": "markdown",
   "id": "a3710049",
   "metadata": {},
   "source": [
    "## Let's Practice Some More!\n",
    "\n",
    "Now that we've learned about variables, lists, if statements, loops, and functions, let's try some fun challenges that put everything together!"
   ]
  },
  {
   "cell_type": "markdown",
   "id": "a3710050",
   "metadata": {},
   "source": [
    "### Challenge 2: Temperature Converter\n",
    "\n",
    "Let's create a function that converts temperatures from Fahrenheit to Celsius. The formula is:\n",
    "\n",
    "Celsius = (Fahrenheit - 32) × 5/9\n",
    "\n",
    "Here's a function to do this conversion:"
   ]
  },
  {
   "cell_type": "code",
   "execution_count": null,
   "id": "a3710051",
   "metadata": {},
   "outputs": [],
   "source": [
    "def fahrenheit_to_celsius(fahrenheit_temp):\n",
    "    celsius_temp = (fahrenheit_temp - 32) * 5/9\n",
    "    return celsius_temp\n",
    "\n",
    "# Let's test our function\n",
    "freezing_f = 32\n",
    "freezing_c = fahrenheit_to_celsius(freezing_f)\n",
    "print(freezing_f, \"degrees Fahrenheit is\", freezing_c, \"degrees Celsius\")\n",
    "\n",
    "# Body temperature\n",
    "body_temp_f = 98.6\n",
    "body_temp_c = fahrenheit_to_celsius(body_temp_f)\n",
    "print(body_temp_f, \"degrees Fahrenheit is\", body_temp_c, \"degrees Celsius\")\n",
    "\n",
    "# Your turn! Try another temperature\n",
    "your_temp = 75  # Change this to any temperature you want\n",
    "print(your_temp, \"degrees Fahrenheit is\", fahrenheit_to_celsius(your_temp), \"degrees Celsius\")"
   ]
  },
  {
   "cell_type": "markdown",
   "id": "a3710052",
   "metadata": {},
   "source": [
    "### Challenge 3: Rock, Paper, Scissors Game\n",
    "\n",
    "Let's create a simple rock-paper-scissors game where you play against the computer!"
   ]
  },
  {
   "cell_type": "code",
   "execution_count": null,
   "id": "a3710053",
   "metadata": {},
   "outputs": [],
   "source": [
    "import random\n",
    "\n",
    "def play_rock_paper_scissors():\n",
    "    # The choices\n",
    "    choices = [\"rock\", \"paper\", \"scissors\"]\n",
    "    \n",
    "    # Computer makes a random choice\n",
    "    computer_choice = random.choice(choices)\n",
    "    \n",
    "    # Player makes a choice\n",
    "    print(\"Let's play Rock, Paper, Scissors!\")\n",
    "    print(\"Enter 1 for Rock, 2 for Paper, or 3 for Scissors:\")\n",
    "    player_num = int(input())\n",
    "    player_choice = choices[player_num - 1]\n",
    "    \n",
    "    # Show the choices\n",
    "    print(\"You chose:\", player_choice)\n",
    "    print(\"Computer chose:\", computer_choice)\n",
    "    \n",
    "    # Figure out who won\n",
    "    if player_choice == computer_choice:\n",
    "        print(\"It's a tie!\")\n",
    "    elif (player_choice == \"rock\" and computer_choice == \"scissors\") or \\\n",
    "         (player_choice == \"paper\" and computer_choice == \"rock\") or \\\n",
    "         (player_choice == \"scissors\" and computer_choice == \"paper\"):\n",
    "        print(\"You win! 🎉\")\n",
    "    else:\n",
    "        print(\"Computer wins! 😮\")\n",
    "\n",
    "# Uncomment the line below to play the game\n",
    "# play_rock_paper_scissors()"
   ]
  },
  {
   "cell_type": "markdown",
   "id": "a3710054",
   "metadata": {},
   "source": [
    "### Challenge 4: Fun with Lists\n",
    "\n",
    "Let's create a cool list of superheroes and practice working with it:"
   ]
  },
  {
   "cell_type": "code",
   "execution_count": null,
   "id": "a3710055",
   "metadata": {},
   "outputs": [],
   "source": [
    "# Here's our list of superheroes\n",
    "superheroes = [\"Spider-Man\", \"Iron Man\", \"Black Panther\", \"Wonder Woman\", \"Captain Marvel\"]\n",
    "\n",
    "# Print all the superheroes with their positions\n",
    "print(\"My superhero list:\")\n",
    "for i in range(len(superheroes)):\n",
    "    print(i+1, \":\", superheroes[i])\n",
    "\n",
    "# Let's add your favorite superhero\n",
    "favorite_hero = \"Batman\"  # Change this to your favorite\n",
    "superheroes.append(favorite_hero)\n",
    "print(\"\\nAfter adding your favorite:\")\n",
    "print(superheroes)\n",
    "\n",
    "# Let's find superheroes that start with 'B'\n",
    "b_heroes = []\n",
    "for hero in superheroes:\n",
    "    if hero.startswith(\"B\"):  # This checks if the string starts with 'B'\n",
    "        b_heroes.append(hero)\n",
    "        \n",
    "print(\"\\nSuperheroes that start with 'B':\", b_heroes)\n",
    "\n",
    "# Let's sort the list alphabetically\n",
    "superheroes.sort()\n",
    "print(\"\\nSorted superhero list:\", superheroes)"
   ]
  },
  {
   "cell_type": "markdown",
   "id": "a3710056",
   "metadata": {},
   "source": [
    "## More Challenges for the Curious Coder 🧠\n",
    "\n",
    "If you've made it this far and want to try something a bit trickier, give these a shot! Don't worry if they seem tough - coding is all about trying, making mistakes, and learning from them."
   ]
  },
  {
   "cell_type": "markdown",
   "id": "a3710057",
   "metadata": {},
   "source": [
    "### Challenge 5: Guess the Number Game\n",
    "\n",
    "Let's create a game where the computer picks a random number and you try to guess it:"
   ]
  },
  {
   "cell_type": "code",
   "execution_count": null,
   "id": "a3710058",
   "metadata": {},
   "outputs": [],
   "source": [
    "def guess_the_number():\n",
    "    # Computer picks a random number between 1 and 20\n",
    "    secret_number = random.randint(1, 20)\n",
    "    attempts = 0\n",
    "    \n",
    "    print(\"I'm thinking of a number between 1 and 20...\")\n",
    "    \n",
    "    # Keep going until the player guesses correctly\n",
    "    while True:\n",
    "        print(\"Take a guess:\")\n",
    "        guess = int(input())\n",
    "        attempts += 1\n",
    "        \n",
    "        if guess < secret_number:\n",
    "            print(\"Too low! Try again.\")\n",
    "        elif guess > secret_number:\n",
    "            print(\"Too high! Try again.\")\n",
    "        else:  # They got it right!\n",
    "            print(f\"Awesome! You guessed my number in {attempts} attempts!\")\n",
    "            break  # This exits the loop\n",
    "\n",
    "# Uncomment the line below to play the game\n",
    "# guess_the_number()"
   ]
  },
  {
   "cell_type": "markdown",
   "id": "a3710059",
   "metadata": {},
   "source": [
    "### Challenge 6: FizzBuzz\n",
    "\n",
    "This is a classic coding challenge! Write a function that counts from 1 to a given number, but:\n",
    "- For multiples of 3, print \"Fizz\" instead of the number\n",
    "- For multiples of 5, print \"Buzz\" instead of the number\n",
    "- For multiples of both 3 and 5, print \"FizzBuzz\"\n",
    "\n",
    "Here's a little head start:"
   ]
  },
  {
   "cell_type": "code",
   "execution_count": null,
   "id": "a3710060",
   "metadata": {},
   "outputs": [],
   "source": [
    "def fizz_buzz(n):\n",
    "    # Your code here!\n",
    "    for i in range(1, n+1):\n",
    "        # Check if the number is divisible by both 3 and 5\n",
    "        if i % 3 == 0 and i % 5 == 0:\n",
    "            print(\"FizzBuzz\")\n",
    "        # Check if the number is divisible by 3\n",
    "        elif i % 3 == 0:\n",
    "            print(\"Fizz\")\n",
    "        # Check if the number is divisible by 5\n",
    "        elif i % 5 == 0:\n",
    "            print(\"Buzz\")\n",
    "        # Otherwise, just print the number\n",
    "        else:\n",
    "            print(i)\n",
    "\n",
    "# Let's try it out!\n",
    "fizz_buzz(20)"
   ]
  },
  {
   "cell_type": "markdown",
   "id": "a3710061",
   "metadata": {},
   "source": [
    "### Challenge 7: Draw a Simple Pattern\n",
    "\n",
    "Let's use loops to draw a cool pattern with stars (*):"
   ]
  },
  {
   "cell_type": "code",
   "execution_count": null,
   "id": "a3710062",
   "metadata": {},
   "outputs": [],
   "source": [
    "def draw_triangle(size):\n",
    "    for i in range(1, size + 1):\n",
    "        # Print i stars on each line\n",
    "        print(\"*\" * i)\n",
    "        \n",
    "print(\"Here's a triangle with 5 rows:\")\n",
    "draw_triangle(5)\n",
    "\n",
    "print(\"\\nAnd here's one with 10 rows:\")\n",
    "draw_triangle(10)"
   ]
  },
  {
   "cell_type": "markdown",
   "id": "a3710063",
   "metadata": {},
   "source": [
    "Can you modify the `draw_triangle` function to create different patterns? Try making an upside-down triangle or a square!"
   ]
  },
  {
   "cell_type": "code",
   "execution_count": null,
   "id": "a3710064",
   "metadata": {},
   "outputs": [],
   "source": [
    "# Try making your own patterns here!\n",
    "def draw_upside_down_triangle(size):\n",
    "    for i in range(size, 0, -1):\n",
    "        print(\"*\" * i)\n",
    "        \n",
    "def draw_square(size):\n",
    "    for i in range(size):\n",
    "        print(\"*\" * size)\n",
    "        \n",
    "print(\"Upside down triangle:\")\n",
    "draw_upside_down_triangle(5)\n",
    "\n",
    "print(\"\\nSquare:\")\n",
    "draw_square(5)"
   ]
  },
  {
   "cell_type": "markdown",
   "id": "a3710065",
   "metadata": {},
   "source": [
    "## Congratulations! 🎉\n",
    "\n",
    "You've made it to the end of our Python adventure! Here's a summary of what you've learned:\n",
    "\n",
    "- Variables: Storing information in boxes with names\n",
    "- Lists: Storing multiple pieces of information in one place\n",
    "- If statements: Making decisions in your code\n",
    "- Loops: Repeating code without typing it over and over\n",
    "- Functions: Creating your own commands to use whenever you need them\n",
    "\n",
    "These are the building blocks that all programmers use to create amazing things - from video games to websites to apps on your phone!\n",
    "\n",
    "### What's Next?\n",
    "\n",
    "If you enjoyed coding in Python, here are some ways to keep learning:\n",
    "\n",
    "1. Try coming up with your own challenges and projects\n",
    "2. Look for free online Python tutorials for kids\n",
    "3. Check if your school has a coding club you can join\n",
    "4. Visit websites like Code.org or Scratch to learn more coding concepts\n",
    "\n",
    "Remember, learning to code is like learning a new language - it takes practice, but it's a lot of fun! Keep experimenting and don't be afraid to make mistakes. That's how everyone learns!\n",
    "\n",
    "**Happy coding!** 🐍💻"
   ]
  }
 ],
 "metadata": {
  "kernelspec": {
   "display_name": "Python 3 (ipykernel)",
   "language": "python",
   "name": "python3"
  },
  "language_info": {
   "codemirror_mode": {
    "name": "ipython",
    "version": 3
   },
   "file_extension": ".py",
   "mimetype": "text/x-python",
   "name": "python",
   "nbconvert_exporter": "python",
   "pygments_lexer": "ipython3",
   "version": "3.12.4"
  },
  "vscode": {
   "interpreter": {
    "hash": "b0fa6594d8f4cbf19f97940f81e996739fb7646882a419484c72d19e05852a7e"
   }
  }
 },
 "nbformat": 4,
 "nbformat_minor": 5
}{
 "cells": [
  {
   "cell_type": "markdown",
   "id": "20be1efc",
   "metadata": {},
   "source": [
    "<img src=\"Resources/eecs-day-header.png\" width=\"600px\" style=\"float: left\"/> <br><br>"
   ]
  },
  {
   "cell_type": "markdown",
   "id": "aa810832",
   "metadata": {},
   "source": [
    "**Hosted by HKN**\n",
    "\n",
    "Written by Aayush Gupta and Owen Thompson (2022), with adaptations from Hermish Mehta (2019), Kenny Wang (2023)"
   ]
  },
  {
   "cell_type": "markdown",
   "id": "96962c7b",
   "metadata": {},
   "source": [
    "# Let's Learn Python! 🐍\n",
    "\n",
    "Hey there! Today we're going to learn how to code with Python. Don't worry if you've never coded before - we'll take it slow and have fun! \n",
    "\n",
    "In this notebook, we'll start with the basics and work our way up to some cool challenges. Remember, it's totally fine if you don't finish everything - coding is about exploring and trying things out! 😊\n",
    "\n",
    "_<font color='green'>If you already know some Python, feel free to skip ahead to the fun challenges at the end!</font>_\n",
    "\n",
    "<font color='blue'>Don't be shy about asking questions if you get stuck - that's how everyone learns!</font>\n",
    "\n",
    "## How to Use This Notebook\n",
    "\n",
    "This notebook has little boxes called \"cells\" where you can write and run code. Look for these buttons in the toolbar:\n",
    "\n",
    "<img src=\"Resources/toolbar.png\" width=\"130px\" style=\"float: left\"/> <br><br>\n",
    "\n",
    "To run a cell, click on it and then click the \"Run Cell\" button (the one that looks like a play button ▶️), or use the shortcut: `SHIFT+ENTER`.\n",
    "\n",
    "Let's try it! Click on the cell below and run it:"
   ]
  },
  {
   "cell_type": "code",
   "execution_count": null,
   "id": "9a3c9a76",
   "metadata": {},
   "outputs": [],
   "source": [
    "# This is a code cell! Click here and then press SHIFT+ENTER to see what happens\n",
    "\n",
    "print(\"Hey there! Welcome to Python! 🎉\")\n",
    "\n",
    "# Try writing your own message below\n",
    "print(\"_____________\")"
   ]
  },
  {
   "cell_type": "markdown",
   "id": "4749193a",
   "metadata": {},
   "source": [
    "### Cool! You just ran your first Python code! 🚀\n",
    "\n",
    "The `print()` command shows messages on the screen. We'll be using this a lot to see what our code is doing.\n",
    "\n",
    "By the way, if you ever need to stop some code that's taking too long, use the square button ⏹️ in the toolbar.\n",
    "\n",
    "**<font color='blue'>Important tip: Make sure to run each cell as you go through this notebook, even if you don't have to change anything in it!</font>**"
   ]
  },
  {
   "cell_type": "markdown",
   "id": "f4a2a823",
   "metadata": {},
   "source": [
    "<img src=\"Resources/warnings.png\" width=\"700px\" style=\"float: left\"/> <br><br>"
   ]
  },
  {
   "cell_type": "markdown",
   "id": "253ec4ad",
   "metadata": {},
   "source": [
    "### Comments: Notes in Your Code\n",
    "\n",
    "Did you notice the lines that start with `#` in the code above? These are <font color='green'><b>comments</b></font> - notes that the computer ignores. They're just there to help you (and other people) understand what the code does.\n",
    "\n",
    "Comments are super helpful when you want to remember what your code does later on!"
   ]
  },
  {
   "cell_type": "markdown",
   "id": "a5811445",
   "metadata": {},
   "source": [
    "<img src=\"Resources/variables.png\" width=\"400px\" style=\"float: left\"/> <br><br>"
   ]
  },
  {
   "cell_type": "markdown",
   "id": "235b581a",
   "metadata": {},
   "source": [
    "## Variables: Storing Information\n",
    "\n",
    "Think of variables like labeled boxes where you can store different things - numbers, words, or even more complex stuff!\n",
    "\n",
    "To create a variable, you give it a name and use `=` to put something inside it. Let's try making some variables:"
   ]
  },
  {
   "cell_type": "code",
   "execution_count": null,
   "id": "1be53d36",
   "metadata": {},
   "outputs": [],
   "source": [
    "# Let's create some variables about YOU! Fill in the blanks with your info\n",
    "# For words or text, we use quotes (\"\") around them\n",
    "\n",
    "first_name = \"________\"  # Your first name here\n",
    "last_name = \"________\"   # Your last name here\n",
    "\n",
    "# We can combine variables using + (this is called \"adding strings together\")\n",
    "full_name = first_name + \" \" + last_name\n",
    "\n",
    "# What's your favorite color?\n",
    "favorite_color = \"Blue\"  # Change this to your favorite color!\n",
    "\n",
    "# What's your favorite number? For numbers, we don't use quotes\n",
    "favorite_number = 7  # Change this to your favorite number\n",
    "\n",
    "# Try adding another number below (just type a number, no quotes)\n",
    "your_age = 12  # Put your age here (or any number you want!)\n",
    "\n",
    "# Is pizza delicious? This is a True/False value (called a boolean)\n",
    "pizza_is_awesome = True  # Try changing to False if you disagree"
   ]
  },
  {
   "cell_type": "markdown",
   "id": "5a4fbf75",
   "metadata": {},
   "source": [
    "Great! Now let's see what's in our variables by printing them out:"
   ]
  },
  {
   "cell_type": "code",
   "execution_count": null,
   "id": "a045850e",
   "metadata": {},
   "outputs": [],
   "source": [
    "# Let's see what's in our variables!\n",
    "print(\"Your name is:\", full_name)\n",
    "print(\"Your favorite color is:\", favorite_color)\n",
    "print(\"Your favorite number is:\", favorite_number)\n",
    "print(\"Your age is:\", your_age)\n",
    "print(\"Is pizza awesome?\", pizza_is_awesome)"
   ]
  },
  {
   "cell_type": "markdown",
   "id": "c7675773",
   "metadata": {},
   "source": [
    "Now try creating and printing a new variable of your own! Some ideas: your hobby, favorite animal, or favorite food."
   ]
  },
  {
   "cell_type": "code",
   "execution_count": null,
   "id": "9a3c9a77",
   "metadata": {},
   "outputs": [],
   "source": [
    "# Create and print your own variable here!\n",
    "# For example: favorite_hobby = \"Playing video games\"\n",
    "\n",
    "# YOUR CODE HERE\n",
    "\n",
    "# Then print it\n",
    "# print(\"My favorite hobby is:\", favorite_hobby)"
   ]
  },
  {
   "cell_type": "markdown",
   "id": "b4091442",
   "metadata": {},
   "source": [
    "<img src=\"Resources/lists.png\" width=\"600px\" style=\"float: left\"/> <br><br>"
   ]
  },
  {
   "cell_type": "markdown",
   "id": "4e4ab7e4",
   "metadata": {},
   "source": [
    "## Lists: Storing Multiple Things\n",
    "\n",
    "Lists are like awesome containers that can hold lots of different things. Think of them like a backpack where you can put multiple items.\n",
    "\n",
    "To create a list, we use square brackets `[ ]` and separate items with commas.\n",
    "\n",
    "**<font color='blue'>Fun fact: In Python, we start counting from 0, not 1!</font>** So the first item in a list is at position 0, the second at position 1, and so on."
   ]
  },
  {
   "cell_type": "code",
   "execution_count": null,
   "id": "4fcff483",
   "metadata": {},
   "outputs": [],
   "source": [
    "# Let's make a list with your info\n",
    "my_info = [first_name, last_name, \"Hello!\"]\n",
    "\n",
    "# To get things from a list, we use [ ] with the position number\n",
    "# Remember: the first item is at position 0!\n",
    "print(\"The first item in my_info is:\", my_info[0])\n",
    "print(\"The second item in my_info is:\", my_info[1])\n",
    "print(\"The third item in my_info is:\", my_info[2])"
   ]
  },
  {
   "cell_type": "code",
   "execution_count": null,
   "id": "d3fb8af9",
   "metadata": {},
   "outputs": [],
   "source": [
    "# We can change things in a list too!\n",
    "# Let's replace your first name with a nickname\n",
    "my_info[0] = \"______\"  # Put your nickname or another name here\n",
    "\n",
    "print(\"Updated first item:\", my_info[0])"
   ]
  },
  {
   "cell_type": "code",
   "execution_count": null,
   "id": "b2e9eb91",
   "metadata": {},
   "outputs": [],
   "source": [
    "# Let's see the whole list\n",
    "print(\"My info list:\", my_info)\n",
    "\n",
    "# We can check how many items are in a list with len()\n",
    "print(\"Number of items in my list:\", len(my_info))"
   ]
  },
  {
   "cell_type": "code",
   "execution_count": null,
   "id": "01a7dce4",
   "metadata": {},
   "outputs": [],
   "source": [
    "# We can add more stuff to our list\n",
    "my_info = my_info + [favorite_color]  # This adds your favorite color to the list\n",
    "print(\"My updated list:\", my_info)"
   ]
  },
  {
   "cell_type": "code",
   "execution_count": null,
   "id": "01a7dcf5",
   "metadata": {},
   "outputs": [],
   "source": [
    "# Now you try! Add something else to the list\n",
    "# It could be your favorite number, a hobby, or anything else\n",
    "my_info = my_info + [\"skateboarding\"]  # Replace this with something about you\n",
    "\n",
    "print(\"My list with more stuff:\", my_info)"
   ]
  },
  {
   "cell_type": "code",
   "execution_count": null,
   "id": "909887ab",
   "metadata": {},
   "outputs": [],
   "source": [
    "# Another way to add things to a list is with .append()\n",
    "my_info.append(favorite_number)\n",
    "\n",
    "print(\"My list after appending:\", my_info)"
   ]
  },
  {
   "cell_type": "code",
   "execution_count": null,
   "id": "04f36753",
   "metadata": {},
   "outputs": [],
   "source": [
    "# Your turn! Append something else to the list\n",
    "my_info.append(\"I love coding!\")  # Change this to something else if you want\n",
    "\n",
    "print(\"Final list:\", my_info)"
   ]
  },
  {
   "cell_type": "markdown",
   "id": "3d838300",
   "metadata": {},
   "source": [
    "## Let's Practice! 🚀\n",
    "\n",
    "Let's try a quick challenge with what we've learned so far.\n",
    "\n",
    "### Challenge 1: Days of the Week\n",
    "\n",
    "Can you:\n",
    "1. Make a list with all the days of the week\n",
    "2. Print just Wednesday (remember counting starts at 0!)\n",
    "3. Print a message about your two favorite days"
   ]
  },
  {
   "cell_type": "code",
   "execution_count": null,
   "id": "b35008bb",
   "metadata": {},
   "outputs": [],
   "source": [
    "# Write your code here!\n",
    "\n",
    "# Part 1: Create a list of days\n",
    "days = [\"Monday\", \"Tuesday\", \"Wednesday\", \"Thursday\", \"Friday\", \"Saturday\", \"Sunday\"]\n",
    "\n",
    "# Part 2: Print Wednesday\n",
    "# Hint: Which position is Wednesday in the list? Remember we start counting at 0\n",
    "print(days[2])  # Is this right? Change the number if needed\n",
    "\n",
    "# Part 3: Print a message about your favorite days\n",
    "# For example: \"My favorite days are Saturday and Sunday.\"\n",
    "print(\"My favorite days are \" + days[5] + \" and \" + days[6] + \".\")"
   ]
  },
  {
   "cell_type": "markdown",
   "id": "0836b0da",
   "metadata": {},
   "source": [
    "<img src=\"Resources/conditionals.png\" width=\"500px\" style=\"float: left\"/> <br><br>"
   ]
  },
  {
   "cell_type": "markdown",
   "id": "c6e48611",
   "metadata": {},
   "source": [
    "## Making Decisions with If Statements\n",
    "\n",
    "Now let's learn how to make our code make decisions using `if` statements. These are like asking questions and doing different things based on the answers.\n",
    "\n",
    "**Super Important:** In Python, we use indentation (spaces at the beginning of lines) to show which code belongs to the if statement. The computer actually cares about these spaces!\n",
    "\n",
    "Let's try some examples:"
   ]
  },
  {
   "cell_type": "code",
   "execution_count": null,
   "id": "4b591869",
   "metadata": {},
   "outputs": [],
   "source": [
    "# Let's create a number and see if it's positive, negative, or zero\n",
    "# Try changing this number and see what happens!\n",
    "num = 5\n",
    "\n",
    "if num < 0:  # Is the number less than zero?\n",
    "    print(\"This number is negative!\")\n",
    "elif num > 0:  # Otherwise, is it greater than zero?\n",
    "    print(\"This number is positive!\")\n",
    "else:  # If neither of those is true, it must be zero\n",
    "    print(\"This number is zero!\")\n",
    "    \n",
    "# We can also check for specific values\n",
    "if num == 7:  # The double equals sign == checks if things are equal\n",
    "    print(\"Hey, that's my lucky number!\")\n",
    "    \n",
    "if num != 10:  # The != checks if things are NOT equal\n",
    "    print(\"This number is not 10\")"
   ]
  },
  {
   "cell_type": "markdown",
   "id": "b835fb2f",
   "metadata": {},
   "source": [
    "We can also combine conditions using `and` and `or`:"
   ]
  },
  {
   "cell_type": "code",
   "execution_count": null,
   "id": "148c355e",
   "metadata": {},
   "outputs": [],
   "source": [
    "# Try changing this number to see what happens\n",
    "age = 12\n",
    "\n",
    "# Both conditions must be true with \"and\"\n",
    "if age >= 8 and age <= 13:\n",
    "    print(\"You're in middle school!\")\n",
    "\n",
    "# Only one condition needs to be true with \"or\"\n",
    "if age == 10 or age == 11:\n",
    "    print(\"You're either 10 or 11 years old!\")"
   ]
  },
  {
   "cell_type": "markdown",
   "id": "1489ccf4",
   "metadata": {},
   "source": [
    "### Your Turn! \n",
    "\n",
    "Can you write an if statement that checks if your favorite number is even or odd? (Hint: use the `%` operator, which gives the remainder after division. For example, `10 % 2` equals 0 because 10 ÷ 2 = 5 with no remainder.)"
   ]
  },
  {
   "cell_type": "code",
   "execution_count": null,
   "id": "148c3552",
   "metadata": {},
   "outputs": [],
   "source": [
    "# Write your code here to check if your favorite number is even or odd\n",
    "\n",
    "if favorite_number % 2 == 0:  # This checks if the remainder when divided by 2 is 0\n",
    "    print(\"Your favorite number is even!\")\n",
    "else:\n",
    "    print(\"Your favorite number is odd!\")"
   ]
  },
  {
   "cell_type": "markdown",
   "id": "3f5f121c",
   "metadata": {},
   "source": [
    "<img src=\"Resources/loops.png\" width=\"500px\" style=\"float: left\"/> <br><br>"
   ]
  },
  {
   "cell_type": "markdown",
   "id": "ecc52273",
   "metadata": {},
   "source": [
    "## Loops: Doing Things Over and Over\n",
    "\n",
    "Let's say we want to print the numbers from 0 to 4. We could do it like this:"
   ]
  },
  {
   "cell_type": "code",
   "execution_count": null,
   "id": "1e056a3b",
   "metadata": {},
   "outputs": [],
   "source": [
    "print(0)\n",
    "print(1)\n",
    "print(2)\n",
    "print(3)\n",
    "print(4)"
   ]
  },
  {
   "cell_type": "markdown",
   "id": "3a0c202b",
   "metadata": {},
   "source": [
    "But what if we wanted to print from 0 to 100? That would be a lot of typing! That's where loops come in. Loops let us repeat code without having to type it over and over.\n",
    "\n",
    "### For Loops\n",
    "\n",
    "<font color = 'red'>**Don't forget about indentation!** Just like with if statements, the code inside loops needs to be indented.</font>"
   ]
  },
  {
   "cell_type": "code",
   "execution_count": null,
   "id": "f06e1af9",
   "metadata": {},
   "outputs": [],
   "source": [
    "# This loop prints numbers 0 through 4\n",
    "for i in range(0, 5):\n",
    "    print(i)"
   ]
  },
  {
   "cell_type": "markdown",
   "id": "aafb0250",
   "metadata": {},
   "source": [
    "Cool, right? Let's break down what's happening:\n",
    "\n",
    "- `for i in range(0, 5):` says \"repeat the following code, with i taking values from 0 to 4\" (note that the end number 5 isn't included)\n",
    "- Everything indented under the for loop will run once for each value of i\n",
    "- `range(start, stop)` creates numbers from `start` up to (but not including) `stop`\n",
    "\n",
    "We can also add a third number to `range` to tell it how much to count by each time:"
   ]
  },
  {
   "cell_type": "code",
   "execution_count": null,
   "id": "34e1a195",
   "metadata": {},
   "outputs": [],
   "source": [
    "# This prints even numbers from 0 to 10\n",
    "print(\"Even numbers from 0 to 10:\")\n",
    "for i in range(0, 11, 2):  # Start at 0, go up to (but not including) 11, count by 2s\n",
    "    print(i)"
   ]
  },
  {
   "cell_type": "markdown",
   "id": "9a4b270c",
   "metadata": {},
   "source": [
    "### Your Turn! \n",
    "\n",
    "Can you make a loop that counts from 10 down to 1, and then prints \"Blast off!\"?"
   ]
  },
  {
   "cell_type": "code",
   "execution_count": null,
   "id": "34e1a199",
   "metadata": {},
   "outputs": [],
   "source": [
    "# Write your countdown loop here\n",
    "# Hint: To count down, use a negative step in range()\n",
    "\n",
    "for i in range(10, 0, -1):\n",
    "    print(i)\n",
    "print(\"Blast off! 🚀\")"
   ]
  },
  {
   "cell_type": "markdown",
   "id": "28b6a7ce",
   "metadata": {},
   "source": [
    "### Looping Through Lists\n",
    "\n",
    "We can also use loops to go through each item in a list:"
   ]
  },
  {
   "cell_type": "code",
   "execution_count": null,
   "id": "9d21374f",
   "metadata": {},
   "outputs": [],
   "source": [
    "# Let's make a list of foods\n",
    "foods = [\"pizza\", \"ice cream\", \"cookies\", \"sushi\", \"tacos\"]\n",
    "\n",
    "# Now let's loop through each food and print a message\n",
    "for food in foods:\n",
    "    print(\"I like to eat\", food)\n",
    "\n",
    "print(\"That's all my favorite foods!\")"
   ]
  },
  {
   "cell_type": "markdown",
   "id": "0b9bb69d",
   "metadata": {},
   "source": [
    "In this loop, the variable `food` takes on each value in the list `foods` one by one, and then we print a message about it."
   ]
  },
  {
   "cell_type": "markdown",
   "id": "6fd1bbc5",
   "metadata": {},
   "source": [
    "### While Loops\n",
    "\n",
    "Another type of loop is the `while` loop, which keeps running as long as a condition is true.\n",
    "\n",
    "Let's play a simple dice game - we'll keep rolling a dice until we get a 6:"
   ]
  },
  {
   "cell_type": "code",
   "execution_count": null,
   "id": "0f01a402",
   "metadata": {
    "scrolled": true
   },
   "outputs": [],
   "source": [
    "import random  # This lets us generate random numbers\n",
    "\n",
    "# Roll a virtual 6-sided die\n",
    "dice_roll = random.randint(1, 6)  # Picks a random number from 1 to 6\n",
    "rolls = 1  # Keep track of how many rolls we've made\n",
    "\n",
    "# Keep rolling until we get a 6\n",
    "while dice_roll != 6:\n",
    "    print(\"Roll #\", rolls, \": You rolled a\", dice_roll)\n",
    "    rolls = rolls + 1  # Add 1 to our roll counter\n",
    "    dice_roll = random.randint(1, 6)  # Roll again!\n",
    "\n",
    "print(\"Roll #\", rolls, \": You rolled a 6! 🎲\")\n",
    "print(\"It took you\", rolls, \"rolls to get a 6!\")"
   ]
  },
  {
   "cell_type": "markdown",
   "id": "7f08c01f",
   "metadata": {},
   "source": [
    "The `while` loop is perfect for this game because we don't know ahead of time how many rolls it will take to get a 6. The loop keeps going until the condition `dice_roll != 6` becomes false (meaning we rolled a 6)."
   ]
  },
  {
   "cell_type": "markdown",
   "id": "ecbd3807",
   "metadata": {},
   "source": [
    "## Functions: Make Your Own Commands\n",
    "\n",
    "So far, we've used built-in functions like `print()` and `range()`. But the really cool thing about programming is that you can create your own functions!\n",
    "\n",
    "Functions are like mini-programs that you can call whenever you need them. They help you avoid repeating code and make your programs easier to understand."
   ]
  },
  {
   "cell_type": "code",
   "execution_count": null,
   "id": "3650e97a",
   "metadata": {},
   "outputs": [],
   "source": [
    "# Let's define a simple function that says hello to someone\n",
    "def say_hello(name):\n",
    "    print(\"Hello there,\", name, \"! How are you today?\")"
   ]
  },
  {
   "cell_type": "markdown",
   "id": "6b3a80b8",
   "metadata": {},
   "source": [
    "Nothing happened! That's because we just defined the function, but we didn't actually run it yet. Let's call our function:"
   ]
  },
  {
   "cell_type": "code",
   "execution_count": null,
   "id": "91765e41",
   "metadata": {},
   "outputs": [],
   "source": [
    "# Now let's call our function\n",
    "say_hello(first_name)\n",
    "\n",
    "# We can call it with different names too\n",
    "say_hello(\"SpongeBob\")\n",
    "say_hello(\"Dora\")"
   ]
  },
  {
   "cell_type": "markdown",
   "id": "6f8cd7f2",
   "metadata": {},
   "source": [
    "Functions can also calculate things and send back (or \"return\") a result:"
   ]
  },
  {
   "cell_type": "code",
   "execution_count": null,
   "id": "2
